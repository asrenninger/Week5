{
 "cells": [
  {
   "cell_type": "markdown",
   "metadata": {},
   "source": [
    " ## HW3 - Satellite image segmentation & classification \n"
   ]
  },
  {
   "cell_type": "markdown",
   "metadata": {},
   "source": [
    "### S1:\n",
    "\n",
    "- A. Load EuroSat data\n",
    "- B. Visualize few images to check the multi-channel images and labels\n",
    "\n",
    "- Q1: What is the number of images in this dataset:   ___\n",
    "- Q2: What is the number of labels in this dataset:   ___\n",
    "- Q3: What is the size of each image in this dataset:   ___\n"
   ]
  },
  {
   "cell_type": "markdown",
   "metadata": {},
   "source": [
    "### S2:\n",
    "\n",
    "- A. Create data matrixes X and y as follows:\n",
    "  - Define L0: a list of labels for class 0 (example: 5 and 8)\n",
    "  - Define L1: a list of labels for class 1 (example: 2, 4 and 8)\n",
    "  - Define CH: a list of image channels used (example: 7)\n",
    "  - Select all images for labels in L0 and L1\n",
    "  - Extract only channels in CH from each selected image and flatten them to a feature matrix X\n",
    "  - Create the labels y (with binary labels 0 and 1) \n",
    "- Q1: What is the size of X:   ___\n",
    "- Q2: What is the size of y:   ___"
   ]
  },
  {
   "cell_type": "markdown",
   "metadata": {},
   "source": [
    "### S3:\n",
    "- A. Using X and y create a split dataset with 60% training and 40% testing data with similar distributions for the two classes\n",
    "- B. Train a linear SVM classifier on the training data and run it on the testing data\n",
    "- C. Draw the ROC for the classification \n",
    "\n",
    "- Q1: What is the training accuracy? ___\n",
    "- Q2: What is the testing accuracy? ___\n",
    "- Q3: What is the AUC? ___"
   ]
  },
  {
   "cell_type": "markdown",
   "metadata": {},
   "source": [
    "### S4:\n",
    "- A. Repeat steps S2 and S3 to create a classifier that classifies Industrial vs Residential\n",
    "- Q1: What is the training accuracy? ___\n",
    "- Q2: What is the testing accuracy? ___\n",
    "- Q3: What is the AUC? ___"
   ]
  },
  {
   "cell_type": "markdown",
   "metadata": {},
   "source": [
    "### S5:\n",
    "- A. Repeat steps S4 using all image channels as input\n",
    "- Q1: What is the training accuracy? ___\n",
    "- Q2: What is the testing accuracy? ___\n",
    "- Q3: What is the AUC? ___"
   ]
  },
  {
   "cell_type": "markdown",
   "metadata": {},
   "source": [
    "### S6:\n",
    "- A. Repeat Step4 with leave-10%-out cross validation\n",
    "- Q1: What is the training accuracy? ___\n",
    "- Q2: What is the testing accuracy? ___\n",
    "- Q3: What is the AUC? ___"
   ]
  },
  {
   "cell_type": "markdown",
   "metadata": {},
   "source": [
    "### S7: \n",
    "- A. Repeat S2 and S3 to implement a binary classifier between \"Residential + Industrial\" vs \"Others\"\n",
    "- Q1: What is the training accuracy? ___\n",
    "- Q2: What is the testing accuracy? ___\n",
    "- Q3: What is the AUC? ___"
   ]
  },
  {
   "cell_type": "markdown",
   "metadata": {},
   "source": [
    "### S8: \n",
    "- Q1: Which pair of classes is the one with the highest classification accuracy?\n",
    "- Q2: Which pair of classes is the one with the lowest classification accuracy?"
   ]
  }
 ],
 "metadata": {
  "kernelspec": {
   "display_name": "Python 3",
   "language": "python",
   "name": "python3"
  },
  "language_info": {
   "codemirror_mode": {
    "name": "ipython",
    "version": 3
   },
   "file_extension": ".py",
   "mimetype": "text/x-python",
   "name": "python",
   "nbconvert_exporter": "python",
   "pygments_lexer": "ipython3",
   "version": "3.7.3"
  }
 },
 "nbformat": 4,
 "nbformat_minor": 2
}
